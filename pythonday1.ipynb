{
 "cells": [
  {
   "cell_type": "code",
   "execution_count": 10,
   "metadata": {},
   "outputs": [
    {
     "name": "stdout",
     "output_type": "stream",
     "text": [
      "['aqua', 'sprite', 'cocacola', 'fanta']\n"
     ]
    }
   ],
   "source": [
    "kardus = ['aqua', 'sprite', 'cocacola', 'fanta']\n",
    "print(kardus)"
   ]
  },
  {
   "cell_type": "code",
   "execution_count": 11,
   "metadata": {},
   "outputs": [
    {
     "name": "stdout",
     "output_type": "stream",
     "text": [
      "sprite\n"
     ]
    }
   ],
   "source": [
    "botol = 'sprite'\n",
    "print(botol)"
   ]
  },
  {
   "cell_type": "code",
   "execution_count": 12,
   "metadata": {},
   "outputs": [
    {
     "name": "stdout",
     "output_type": "stream",
     "text": [
      "fanta\n"
     ]
    }
   ],
   "source": [
    "print(kardus[3])"
   ]
  },
  {
   "cell_type": "code",
   "execution_count": 14,
   "metadata": {},
   "outputs": [
    {
     "name": "stdout",
     "output_type": "stream",
     "text": [
      "fanta\n"
     ]
    }
   ],
   "source": [
    "print(kardus[-1])"
   ]
  },
  {
   "cell_type": "code",
   "execution_count": 15,
   "metadata": {},
   "outputs": [
    {
     "name": "stdout",
     "output_type": "stream",
     "text": [
      "['cleo', 'sprite', 'cocacola', 'fanta']\n"
     ]
    }
   ],
   "source": [
    "kardus[0]='cleo'\n",
    "print(kardus)"
   ]
  },
  {
   "cell_type": "code",
   "execution_count": 17,
   "metadata": {},
   "outputs": [
    {
     "name": "stdout",
     "output_type": "stream",
     "text": [
      "['cleo', 'sprite', 'cocacola', 80]\n"
     ]
    }
   ],
   "source": [
    "kardus[-1]=80\n",
    "print(kardus)"
   ]
  },
  {
   "cell_type": "code",
   "execution_count": 18,
   "metadata": {},
   "outputs": [
    {
     "name": "stdout",
     "output_type": "stream",
     "text": [
      "['sprite', 'cocacola']\n"
     ]
    }
   ],
   "source": [
    "print(kardus[1:3])"
   ]
  },
  {
   "cell_type": "code",
   "execution_count": 19,
   "metadata": {},
   "outputs": [
    {
     "name": "stdout",
     "output_type": "stream",
     "text": [
      "['sprite', 'cocacola', 80]\n"
     ]
    }
   ],
   "source": [
    "print(kardus[1:4])"
   ]
  },
  {
   "cell_type": "code",
   "execution_count": 21,
   "metadata": {},
   "outputs": [
    {
     "name": "stdout",
     "output_type": "stream",
     "text": [
      "['cleo', 'chitato', 'chiki', 'cheetos', 'jetzet', 'qtela', 'oreo', 'malkist', 'doritos', 'taro', 'cheetos', 'jetzet', 80]\n"
     ]
    }
   ],
   "source": [
    "kardus[1:3]=['chitato', 'chiki', 'cheetos', 'jetzet', 'qtela', 'oreo', 'malkist', 'doritos', 'taro']\n",
    "print(kardus)"
   ]
  },
  {
   "cell_type": "code",
   "execution_count": 23,
   "metadata": {},
   "outputs": [
    {
     "ename": "TypeError",
     "evalue": "'tuple' object does not support item assignment",
     "output_type": "error",
     "traceback": [
      "\u001b[1;31m---------------------------------------------------------------------------\u001b[0m",
      "\u001b[1;31mTypeError\u001b[0m                                 Traceback (most recent call last)",
      "\u001b[1;32m<ipython-input-23-4827384e8718>\u001b[0m in \u001b[0;36m<module>\u001b[1;34m\u001b[0m\n\u001b[0;32m      1\u001b[0m \u001b[0mkasir\u001b[0m\u001b[1;33m=\u001b[0m\u001b[1;33m(\u001b[0m\u001b[1;34m'aqua'\u001b[0m\u001b[1;33m,\u001b[0m \u001b[1;34m'sprite'\u001b[0m\u001b[1;33m,\u001b[0m \u001b[1;34m'cocacola'\u001b[0m\u001b[1;33m,\u001b[0m \u001b[1;34m'fanta'\u001b[0m\u001b[1;33m)\u001b[0m\u001b[1;33m\u001b[0m\u001b[1;33m\u001b[0m\u001b[0m\n\u001b[1;32m----> 2\u001b[1;33m \u001b[0mkasir\u001b[0m\u001b[1;33m[\u001b[0m\u001b[1;36m0\u001b[0m\u001b[1;33m]\u001b[0m\u001b[1;33m=\u001b[0m\u001b[1;34m'chitato'\u001b[0m\u001b[1;33m\u001b[0m\u001b[1;33m\u001b[0m\u001b[0m\n\u001b[0m",
      "\u001b[1;31mTypeError\u001b[0m: 'tuple' object does not support item assignment"
     ]
    }
   ],
   "source": [
    "kasir=('aqua', 'sprite', 'cocacola', 'fanta')\n",
    "kasir[0]='chitato'"
   ]
  },
  {
   "cell_type": "code",
   "execution_count": 24,
   "metadata": {},
   "outputs": [
    {
     "name": "stdout",
     "output_type": "stream",
     "text": [
      "{'aqua': 'nurdeka', 'sprite': 'arif', 'cocacola': 'thomas', 'fanta': 'tio'}\n"
     ]
    }
   ],
   "source": [
    "kardus_label={'aqua':'nurdeka', 'sprite':'arif', 'cocacola':'thomas', 'fanta':'tio'}\n",
    "print(kardus_label)"
   ]
  },
  {
   "cell_type": "code",
   "execution_count": 25,
   "metadata": {},
   "outputs": [
    {
     "name": "stdout",
     "output_type": "stream",
     "text": [
      "nurdeka\n"
     ]
    }
   ],
   "source": [
    "print(kardus_label['aqua'])"
   ]
  },
  {
   "cell_type": "code",
   "execution_count": 26,
   "metadata": {},
   "outputs": [
    {
     "name": "stdout",
     "output_type": "stream",
     "text": [
      "tio\n"
     ]
    }
   ],
   "source": [
    "print(kardus_label['fanta'])"
   ]
  },
  {
   "cell_type": "code",
   "execution_count": 27,
   "metadata": {},
   "outputs": [
    {
     "name": "stdout",
     "output_type": "stream",
     "text": [
      "{'aqua': 'nurdeka', 'sprite': 'arif', 'cocacola': 'thomas', 'fanta': 'tio', 'dancow': 'khafid'}\n"
     ]
    }
   ],
   "source": [
    "kardus_label['dancow']='khafid'\n",
    "print(kardus_label)"
   ]
  },
  {
   "cell_type": "code",
   "execution_count": 28,
   "metadata": {},
   "outputs": [
    {
     "name": "stdout",
     "output_type": "stream",
     "text": [
      "{'aqua': 'nurdeka', 'sprite': 'arif', 'cocacola': 'thomas', 'fanta': 'tio', 'dancow': 'khafid', 'baterai': ['ajie', 'husein']}\n"
     ]
    }
   ],
   "source": [
    "kardus_label['baterai']=['ajie','husein']\n",
    "print(kardus_label)"
   ]
  },
  {
   "cell_type": "code",
   "execution_count": 29,
   "metadata": {},
   "outputs": [
    {
     "name": "stdout",
     "output_type": "stream",
     "text": [
      "{'aqua': 'nurdeka', 'sprite': 'arif', 'cocacola': 'thomas', 'fanta': 'tio', 'dancow': 'khafid', 'baterai': ['ajie', 'husein'], 'mars': {'lampu': 'mars', 'gunting': 'mars'}}\n"
     ]
    }
   ],
   "source": [
    "kardus_label['mars']={'lampu': 'mars', 'gunting':'mars'}\n",
    "print(kardus_label)"
   ]
  },
  {
   "cell_type": "code",
   "execution_count": null,
   "metadata": {},
   "outputs": [],
   "source": []
  }
 ],
 "metadata": {
  "kernelspec": {
   "display_name": "Python 3",
   "language": "python",
   "name": "python3"
  },
  "language_info": {
   "codemirror_mode": {
    "name": "ipython",
    "version": 3
   },
   "file_extension": ".py",
   "mimetype": "text/x-python",
   "name": "python",
   "nbconvert_exporter": "python",
   "pygments_lexer": "ipython3",
   "version": "3.8.3"
  }
 },
 "nbformat": 4,
 "nbformat_minor": 4
}
